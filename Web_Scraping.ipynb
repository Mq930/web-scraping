{
 "cells": [
  {
   "cell_type": "markdown",
   "id": "60da2f43",
   "metadata": {},
   "source": [
    "# Web Scraping \n",
    "This notebook demonstrates the process of web scraping using Python libraries."
   ]
  },
  {
   "cell_type": "markdown",
   "id": "4a78ef9c",
   "metadata": {},
   "source": [
    "## Step 1: Importing Necessary Libraries\n",
    "We will use the following libraries:\n",
    "- `requests` to fetch webpage content\n",
    "- `BeautifulSoup` to parse HTML\n",
    "- `pandas` to store and process the extracted data\n",
    "- `numpy` to deal with numeric calculations effectively"
   ]
  },
  {
   "cell_type": "code",
   "execution_count": 1,
   "id": "5d46092c-dc24-478c-bd38-ac70b4e7e8ea",
   "metadata": {},
   "outputs": [],
   "source": [
    "import requests\n",
    "import numpy as np\n",
    "from bs4 import BeautifulSoup\n",
    "import pandas as pd"
   ]
  },
  {
   "cell_type": "markdown",
   "id": "592f2c46",
   "metadata": {},
   "source": [
    "## Step 2: Defining the Target Website\n",
    "We specify the URL of the website we want to scrape and send an HTTP request."
   ]
  },
  {
   "cell_type": "code",
   "execution_count": 2,
   "id": "debb8cf1-19af-4925-ba14-332d239be84e",
   "metadata": {},
   "outputs": [
    {
     "data": {
      "text/plain": [
       "<Response [200]>"
      ]
     },
     "execution_count": 2,
     "metadata": {},
     "output_type": "execute_result"
    }
   ],
   "source": [
    "r=requests.get(\"https://www.airlinequality.com/airline-reviews/british-airways/page/2/?sortby=post_date%3ADesc&pagesize=1000\")\n",
    "r"
   ]
  },
  {
   "cell_type": "markdown",
   "id": "bca649bc",
   "metadata": {},
   "source": [
    "## Step 3: Parsing the HTML Content\n",
    "Using BeautifulSoup, we parse the webpage to extract relevant information."
   ]
  },
  {
   "cell_type": "code",
   "execution_count": 3,
   "id": "3d0a8a8f-8373-4c8f-9428-995d1f76fb52",
   "metadata": {},
   "outputs": [],
   "source": [
    "soup=BeautifulSoup(r.content,\"html.parser\")"
   ]
  },
  {
   "cell_type": "markdown",
   "id": "7d16335f",
   "metadata": {},
   "source": [
    "## Step 4: Extracting Specific Data\n",
    "Here, we extract all the neccessary info that is required"
   ]
  },
  {
   "cell_type": "code",
   "execution_count": 4,
   "id": "562894e1-66ff-41ac-a780-38e1d8cbbbd8",
   "metadata": {},
   "outputs": [
    {
     "name": "stdout",
     "output_type": "stream",
     "text": [
      "['N Trabolini', 'Hungpin Hsieh', 'Shixin Chu', 'M Simpson', 'Natalie James-Deegan', 'O Morton', 'Andrew Miao', 'A Norton', 'Nakul Borade', 'Harry Aronowicz']\n",
      "1000\n"
     ]
    }
   ],
   "source": [
    "authors = soup.find_all('span',attrs={\"itemprop\":\"name\"})\n",
    "name=[]\n",
    "for author in authors:\n",
    "    name.append(author.text)\n",
    "print(name[:10])\n",
    "print(len(name))"
   ]
  },
  {
   "cell_type": "code",
   "execution_count": 5,
   "id": "02301332-0f14-47c1-b0a1-f05750073bf5",
   "metadata": {},
   "outputs": [
    {
     "name": "stdout",
     "output_type": "stream",
     "text": [
      "['\"feel worthless as a customer\"', '\"asked them to cancel my ticket\"', '\"Overall, the journey was great\"', '\"you will not be able to get any help\"', '\"They were beyond amazing!\"', '\"flight was cancelled 3 days in a row\"\\r\\n', '\"service was totally unacceptable\"', '\"customer service is increasingly low cost in feel\"', '\"crew were very helpful\"', '\"Crew on board very friendly and helpful\"']\n",
      "1000\n"
     ]
    }
   ],
   "source": [
    "ti = soup.find_all('h2',attrs={\"class\":\"text_header\"})\n",
    "title=[]\n",
    "for t in ti:\n",
    "    title.append(str(t.text))\n",
    "print(title[:10])\n",
    "print(len(title))"
   ]
  },
  {
   "cell_type": "code",
   "execution_count": 6,
   "id": "627747c7-9ac5-47ba-8ceb-28b828a2e30f",
   "metadata": {},
   "outputs": [
    {
     "name": "stdout",
     "output_type": "stream",
     "text": [
      "['Trip Verified', 'Trip Verified', 'Trip Verified', 'Not Verified', 'Not Verified', 'Trip Verified', 'Trip Verified', 'Trip Verified', 'Not Verified', 'Trip Verified']\n",
      "1000\n"
     ]
    }
   ],
   "source": [
    "ti = soup.find_all('strong')\n",
    "verification=[]\n",
    "for t in ti:\n",
    "    verification.append(t.text)\n",
    "verification=verification[:1000]\n",
    "print(verification[:10])\n",
    "print(len(verification))"
   ]
  },
  {
   "cell_type": "code",
   "execution_count": 7,
   "id": "e0629990-1bf5-43e7-a3b8-46b8aed1b952",
   "metadata": {},
   "outputs": [
    {
     "name": "stdout",
     "output_type": "stream",
     "text": [
      "['1', '1', '9', '2', '10', '1', '2', '6', '5', '10']\n",
      "1000\n"
     ]
    }
   ],
   "source": [
    "ti = soup.find_all('span',attrs={\"itemprop\":\"ratingValue\"})\n",
    "rating_out_of_10=[]\n",
    "for t in ti:\n",
    "    rating_out_of_10.append(t.text)\n",
    "rating_out_of_10=rating_out_of_10[1:]\n",
    "print(rating_out_of_10[:10])\n",
    "print(len(rating_out_of_10))"
   ]
  },
  {
   "cell_type": "code",
   "execution_count": 8,
   "id": "24325102-5d26-423f-a71b-a2b5bbeef2f6",
   "metadata": {},
   "outputs": [
    {
     "name": "stdout",
     "output_type": "stream",
     "text": [
      "['United Kingdom', 'Taiwan', 'China', 'United States', 'United Kingdom', 'United States', 'Hong Kong', 'United Kingdom', 'United Kingdom', 'Canada']\n",
      "1000\n"
     ]
    }
   ],
   "source": [
    "ti = soup.find_all('h3',attrs={\"class\":\"text_sub_header userStatusWrapper\"})\n",
    "nationality=[]\n",
    "for t in ti:\n",
    "    nationality.append(str(t.text.split('(')[1]).split(')')[0])\n",
    "print(nationality[:10])\n",
    "print(len(nationality))"
   ]
  },
  {
   "cell_type": "code",
   "execution_count": 9,
   "id": "ce60c920-067c-4412-8fa6-dfacb5d1f63d",
   "metadata": {},
   "outputs": [
    {
     "name": "stdout",
     "output_type": "stream",
     "text": [
      "[' 28th August 2019', ' 26th August 2019', ' 25th August 2019', ' 24th August 2019', ' 24th August 2019', ' 23rd August 2019', ' 23rd August 2019', ' 22nd August 2019', ' 21st August 2019', ' 21st August 2019']\n",
      "1000\n"
     ]
    }
   ],
   "source": [
    "ti = soup.find_all('h3',attrs={\"class\":\"text_sub_header userStatusWrapper\"})\n",
    "date_of_review=[]\n",
    "for t in ti:\n",
    "    date_of_review.append(str(t.text.split('(')[1]).split(')')[1])\n",
    "print(date_of_review[:10])\n",
    "print(len(date_of_review))"
   ]
  },
  {
   "cell_type": "code",
   "execution_count": 10,
   "id": "15ca6f65-2d2f-4649-bada-eb6d2bf845a7",
   "metadata": {},
   "outputs": [
    {
     "name": "stdout",
     "output_type": "stream",
     "text": [
      "['✅ Trip Verified |  I was supposed to fly from London City to Amsterdam on 24/7, Business Class. Once at LCY, my early pm flight appeared as cancelled. A state of confusion broke out at the airport, with people trying to find alternatives, however I managed to be rebooked on a later flight. On a busy day, I waited for hours at the airport. The new flight was displayed as “delayed” for 45mins. the delay kept on increasing, with the flight ultimately scheduled to depart after 10pm. I kept on waiting. The flight eventually ended up cancelled as well. Result: half a day wasted at LCY. I feel that BA’s punctuality and quality of customer service have been declining significantly lately. Delays and cancellations can happen, however I have been flying BA +/- 30 times a year and the % of flights delayed has been abnormally high lately, especially to/from Amsterdam and Germany. Also, the customer service seems to have a “minimum care” proposition (provide what is strictly required by the law, only if customers complain, taking as long as possible), that genuinely makes you feel worthless as a customer, whether you are a frequent flyer or not.']\n",
      "1000\n"
     ]
    }
   ],
   "source": [
    "ti = soup.find_all('div',attrs={\"class\":\"text_content\"})\n",
    "review=[]\n",
    "for t in ti:\n",
    "    review.append(t.text)\n",
    "print(review[:1])\n",
    "print(len(review))"
   ]
  },
  {
   "cell_type": "code",
   "execution_count": 11,
   "id": "5cf8fb6b-407e-46b3-81b2-e4e819f40217",
   "metadata": {},
   "outputs": [
    {
     "name": "stdout",
     "output_type": "stream",
     "text": [
      "['\\nType Of TravellerBusiness\\nSeat TypeBusiness Class\\nRouteLondon City to Amsterdam\\nDate FlownJuly 2019\\n\\nSeat Comfort\\n12345\\n\\n\\nCabin Staff Service\\n12345\\n\\n\\nGround Service\\n12345\\n\\n\\nValue For Money\\n12345\\n\\nRecommendedno ']\n",
      "1000\n"
     ]
    }
   ],
   "source": [
    "ti = soup.find_all('table',attrs={\"class\":\"review-ratings\"})\n",
    "table=[]\n",
    "for t in ti:\n",
    "    table.append(t.text)\n",
    "table=table[1:]\n",
    "print(table[:1])\n",
    "print(len(table))"
   ]
  },
  {
   "cell_type": "code",
   "execution_count": 12,
   "id": "596adcc0-719c-4e91-a579-ca6471f10547",
   "metadata": {},
   "outputs": [
    {
     "data": {
      "text/plain": [
       "1000"
      ]
     },
     "execution_count": 12,
     "metadata": {},
     "output_type": "execute_result"
    }
   ],
   "source": [
    "air=[]\n",
    "for i in table:\n",
    "    if('Aircraft' in i):\n",
    "        j=i.split('\\n')\n",
    "        for x in j:\n",
    "            if(\"Aircraft\" in x):\n",
    "                air.append(x.split(\"Aircraft\")[1])\n",
    "    else:\n",
    "        air.append(np.nan)\n",
    "len(air)"
   ]
  },
  {
   "cell_type": "code",
   "execution_count": 13,
   "id": "d204f201-2cc7-4898-b477-50df09314a6c",
   "metadata": {},
   "outputs": [
    {
     "data": {
      "text/plain": [
       "1000"
      ]
     },
     "execution_count": 13,
     "metadata": {},
     "output_type": "execute_result"
    }
   ],
   "source": [
    "Type_Of_Traveller=[]\n",
    "for i in table:\n",
    "    if('Type Of Traveller' in i):\n",
    "        j=i.split('\\n')\n",
    "        for x in j:\n",
    "            if(\"Type Of Traveller\" in x):\n",
    "                Type_Of_Traveller.append(x.split(\"Type Of Traveller\")[1])\n",
    "    else:\n",
    "        Type_Of_Traveller.append(np.nan)\n",
    "len(Type_Of_Traveller)"
   ]
  },
  {
   "cell_type": "code",
   "execution_count": 14,
   "id": "4c7c546d-838a-4e9b-b709-bb079f529374",
   "metadata": {},
   "outputs": [
    {
     "data": {
      "text/plain": [
       "1000"
      ]
     },
     "execution_count": 14,
     "metadata": {},
     "output_type": "execute_result"
    }
   ],
   "source": [
    "Seat_Type=[]\n",
    "for i in table:\n",
    "    if('Seat Type' in i):\n",
    "        j=i.split('\\n')\n",
    "        for x in j:\n",
    "            if(\"Seat Type\" in x):\n",
    "                Seat_Type.append(x.split(\"Seat Type\")[1])\n",
    "    else:\n",
    "        Seat_Type.append(np.nan)\n",
    "len(Seat_Type)"
   ]
  },
  {
   "cell_type": "code",
   "execution_count": 15,
   "id": "c8e1dfd1-3505-4fdd-8124-55819ecef015",
   "metadata": {},
   "outputs": [
    {
     "data": {
      "text/plain": [
       "1000"
      ]
     },
     "execution_count": 15,
     "metadata": {},
     "output_type": "execute_result"
    }
   ],
   "source": [
    "Route=[]\n",
    "for i in table:\n",
    "    if('Route' in i):\n",
    "        j=i.split('\\n')\n",
    "        for x in j:\n",
    "            if(\"Route\" in x):\n",
    "                Route.append(x.split(\"Route\")[1])\n",
    "    else:\n",
    "        Route.append(np.nan)\n",
    "len(Route)"
   ]
  },
  {
   "cell_type": "code",
   "execution_count": 16,
   "id": "c7643292-097c-48b0-adf7-a693faa49292",
   "metadata": {},
   "outputs": [
    {
     "data": {
      "text/plain": [
       "1000"
      ]
     },
     "execution_count": 16,
     "metadata": {},
     "output_type": "execute_result"
    }
   ],
   "source": [
    "Date_Flown=[]\n",
    "for i in table:\n",
    "    if('Date Flown' in i):\n",
    "        j=i.split('\\n')\n",
    "        for x in j:\n",
    "            if(\"Date Flown\" in x):\n",
    "                Date_Flown.append(x.split(\"Date Flown\")[1])\n",
    "    else:\n",
    "        Date_Flown.append(np.nan)\n",
    "len(Date_Flown)"
   ]
  },
  {
   "cell_type": "code",
   "execution_count": 17,
   "id": "3eddab87-29c8-411a-bcaf-339b57ed729b",
   "metadata": {},
   "outputs": [],
   "source": [
    "f = soup.find_all('table',attrs={\"class\":\"review-ratings\"})\n",
    "star=[]\n",
    "for i in f:\n",
    "    star.append(str(i))\n",
    "star=star[1:]"
   ]
  },
  {
   "cell_type": "code",
   "execution_count": 18,
   "id": "629bbc87-a82e-48dc-9160-74f78f9a5657",
   "metadata": {},
   "outputs": [
    {
     "data": {
      "text/plain": [
       "1000"
      ]
     },
     "execution_count": 18,
     "metadata": {},
     "output_type": "execute_result"
    }
   ],
   "source": [
    "Seat_Comfort=[]\n",
    "for i in star:\n",
    "    if(\"Seat Comfort\" in i):\n",
    "        j=i.split(\"5</span></td>\")\n",
    "        for x in j:\n",
    "            if(\"Seat Comfort\" in x):\n",
    "                Seat_Comfort.append(x.count(\"star fill\"))\n",
    "    else:\n",
    "        Seat_Comfort.append(np.nan)\n",
    "len(Seat_Comfort)"
   ]
  },
  {
   "cell_type": "code",
   "execution_count": 19,
   "id": "f253dae9-2728-48b6-b9e9-52ad1c186c30",
   "metadata": {},
   "outputs": [
    {
     "data": {
      "text/plain": [
       "1000"
      ]
     },
     "execution_count": 19,
     "metadata": {},
     "output_type": "execute_result"
    }
   ],
   "source": [
    "Cabin_Staff_Service=[]\n",
    "for i in star:\n",
    "    if(\"Cabin Staff Service\" in i):\n",
    "        j=i.split(\"5</span></td>\")\n",
    "        for x in j:\n",
    "            if(\"Cabin Staff Service\" in x):\n",
    "                Cabin_Staff_Service.append(x.count(\"star fill\"))\n",
    "    else:\n",
    "        Cabin_Staff_Service.append(np.nan)\n",
    "len(Cabin_Staff_Service)"
   ]
  },
  {
   "cell_type": "code",
   "execution_count": 20,
   "id": "0b29f683-5b49-42e2-a1db-d30dfd1ae3ce",
   "metadata": {},
   "outputs": [
    {
     "data": {
      "text/plain": [
       "1000"
      ]
     },
     "execution_count": 20,
     "metadata": {},
     "output_type": "execute_result"
    }
   ],
   "source": [
    "Food_Beverages=[]\n",
    "for i in star:\n",
    "    if(\"Food &amp; Beverages\" in i):\n",
    "        j=i.split(\"5</span></td>\")\n",
    "        for x in j:\n",
    "            if(\"Food &amp; Beverages\" in x):\n",
    "                Food_Beverages.append(x.count(\"star fill\"))\n",
    "    else:\n",
    "        Food_Beverages.append(np.nan)\n",
    "len(Food_Beverages)"
   ]
  },
  {
   "cell_type": "code",
   "execution_count": 21,
   "id": "f829e840-e883-44c2-9702-ff02831d9dc3",
   "metadata": {},
   "outputs": [
    {
     "data": {
      "text/plain": [
       "1000"
      ]
     },
     "execution_count": 21,
     "metadata": {},
     "output_type": "execute_result"
    }
   ],
   "source": [
    "Inflight_Entertainment=[]\n",
    "for i in star:\n",
    "    if(\"Inflight Entertainment\" in i):\n",
    "        j=i.split(\"5</span></td>\")\n",
    "        for x in j:\n",
    "            if(\"Inflight Entertainment\" in x):\n",
    "                Inflight_Entertainment.append(x.count(\"star fill\"))\n",
    "    else:\n",
    "        Inflight_Entertainment.append(np.nan)\n",
    "len(Inflight_Entertainment)"
   ]
  },
  {
   "cell_type": "code",
   "execution_count": 22,
   "id": "90846b11-6550-4324-beda-3c3f63cc89d1",
   "metadata": {},
   "outputs": [
    {
     "data": {
      "text/plain": [
       "1000"
      ]
     },
     "execution_count": 22,
     "metadata": {},
     "output_type": "execute_result"
    }
   ],
   "source": [
    "Ground_Service=[]\n",
    "for i in star:\n",
    "    if(\"Ground Service\" in i):\n",
    "        j=i.split(\"5</span></td>\")\n",
    "        for x in j:\n",
    "            if(\"Ground Service\" in x):\n",
    "                Ground_Service.append(x.count(\"star fill\"))\n",
    "    else:\n",
    "        Ground_Service.append(np.nan)\n",
    "len(Ground_Service)"
   ]
  },
  {
   "cell_type": "code",
   "execution_count": 23,
   "id": "91008cb4-4b6b-4242-b0e6-d2f4640adfea",
   "metadata": {},
   "outputs": [
    {
     "data": {
      "text/plain": [
       "1000"
      ]
     },
     "execution_count": 23,
     "metadata": {},
     "output_type": "execute_result"
    }
   ],
   "source": [
    "Wifi_Connectivity=[]\n",
    "for i in star:\n",
    "    if(\"Wifi &amp; Connectivity\" in i):\n",
    "        j=i.split(\"5</span></td>\")\n",
    "        for x in j:\n",
    "            if(\"Wifi &amp; Connectivity\" in x):\n",
    "                Wifi_Connectivity.append(x.count(\"star fill\"))\n",
    "    else:\n",
    "        Wifi_Connectivity.append(np.nan)\n",
    "len(Wifi_Connectivity)"
   ]
  },
  {
   "cell_type": "code",
   "execution_count": 24,
   "id": "9dbd8d1b-2baf-4736-9715-5c4b5a3122fe",
   "metadata": {},
   "outputs": [
    {
     "data": {
      "text/plain": [
       "1000"
      ]
     },
     "execution_count": 24,
     "metadata": {},
     "output_type": "execute_result"
    }
   ],
   "source": [
    "Value_For_Money=[]\n",
    "for i in star:\n",
    "    if(\"Value For Money\" in i):\n",
    "        j=i.split(\"5</span></td>\")\n",
    "        for x in j:\n",
    "            if(\"Value For Money\" in x):\n",
    "                Value_For_Money.append(x.count(\"star fill\"))\n",
    "    else:\n",
    "        Value_For_Money.append(np.nan)\n",
    "len(Value_For_Money)"
   ]
  },
  {
   "cell_type": "code",
   "execution_count": 25,
   "id": "003c460a-ca73-4138-b042-fd2e16e19d0e",
   "metadata": {},
   "outputs": [
    {
     "data": {
      "text/plain": [
       "1000"
      ]
     },
     "execution_count": 25,
     "metadata": {},
     "output_type": "execute_result"
    }
   ],
   "source": [
    "Recommended=[]\n",
    "for i in star:\n",
    "    if(\"Recommended\" in i):\n",
    "        j=i.split(\"recommended\")\n",
    "        for x in j:\n",
    "            if(\"Recommended\" in x):\n",
    "                if(\"yes\" in x):\n",
    "                    Recommended.append(\"Yes\")\n",
    "                elif(\"no\" in x):\n",
    "                    Recommended.append(\"No\")\n",
    "    else:\n",
    "        Recommended.append(np.nan)\n",
    "len(Recommended)"
   ]
  },
  {
   "cell_type": "markdown",
   "id": "fa5993da-d770-4cf3-b388-54e1fe71b3ea",
   "metadata": {},
   "source": [
    "## Step 5: Storing Extracted Data\n",
    "We store the scraped data in a Pandas DataFrame for easy processing."
   ]
  },
  {
   "cell_type": "code",
   "execution_count": 26,
   "id": "a1ac0311-d721-4b18-8a52-4320a218e3c2",
   "metadata": {},
   "outputs": [],
   "source": [
    "dic={\n",
    "    \"Passenger_Name\":name,\n",
    "    \"Nationality\":nationality,\n",
    "    \"date_of_review\":date_of_review,\n",
    "    \"Title\":title,\n",
    "    \"Review\":review,\n",
    "    \"Verification\":verification,\n",
    "    \"Aircraft\":air,\n",
    "    \"Type Of Traveller\":Type_Of_Traveller,\n",
    "    \"Seat Type\":Seat_Type,\n",
    "    \"Route\":Route,\n",
    "    \"Date Flown\":Date_Flown,\n",
    "    \"Seat Comfort\":Seat_Comfort,\n",
    "    \"Cabin Staff Service\":Cabin_Staff_Service,\n",
    "    \"Food & Beverages\":Food_Beverages,\n",
    "    \"Inflight Entertainment\":Inflight_Entertainment,\n",
    "    \"Ground Service\":Ground_Service,\n",
    "    \"Wifi & Connectivity\":Wifi_Connectivity,\n",
    "    \"Value For Money\":Value_For_Money,\n",
    "    \"Recommended\":Recommended,\n",
    "    \"OverAll_Rating\":rating_out_of_10\n",
    "}"
   ]
  },
  {
   "cell_type": "code",
   "execution_count": 27,
   "id": "28a8e803-2470-44a5-b736-35d3a1788ab2",
   "metadata": {},
   "outputs": [
    {
     "data": {
      "text/html": [
       "<div>\n",
       "<style scoped>\n",
       "    .dataframe tbody tr th:only-of-type {\n",
       "        vertical-align: middle;\n",
       "    }\n",
       "\n",
       "    .dataframe tbody tr th {\n",
       "        vertical-align: top;\n",
       "    }\n",
       "\n",
       "    .dataframe thead th {\n",
       "        text-align: right;\n",
       "    }\n",
       "</style>\n",
       "<table border=\"1\" class=\"dataframe\">\n",
       "  <thead>\n",
       "    <tr style=\"text-align: right;\">\n",
       "      <th></th>\n",
       "      <th>Passenger_Name</th>\n",
       "      <th>Nationality</th>\n",
       "      <th>date_of_review</th>\n",
       "      <th>Title</th>\n",
       "      <th>Review</th>\n",
       "      <th>Verification</th>\n",
       "      <th>Aircraft</th>\n",
       "      <th>Type Of Traveller</th>\n",
       "      <th>Seat Type</th>\n",
       "      <th>Route</th>\n",
       "      <th>Date Flown</th>\n",
       "      <th>Seat Comfort</th>\n",
       "      <th>Cabin Staff Service</th>\n",
       "      <th>Food &amp; Beverages</th>\n",
       "      <th>Inflight Entertainment</th>\n",
       "      <th>Ground Service</th>\n",
       "      <th>Wifi &amp; Connectivity</th>\n",
       "      <th>Value For Money</th>\n",
       "      <th>Recommended</th>\n",
       "      <th>OverAll_Rating</th>\n",
       "    </tr>\n",
       "  </thead>\n",
       "  <tbody>\n",
       "    <tr>\n",
       "      <th>0</th>\n",
       "      <td>N Trabolini</td>\n",
       "      <td>United Kingdom</td>\n",
       "      <td>28th August 2019</td>\n",
       "      <td>\"feel worthless as a customer\"</td>\n",
       "      <td>✅ Trip Verified |  I was supposed to fly from ...</td>\n",
       "      <td>Trip Verified</td>\n",
       "      <td>NaN</td>\n",
       "      <td>Business</td>\n",
       "      <td>Business Class</td>\n",
       "      <td>London City to Amsterdam</td>\n",
       "      <td>July 2019</td>\n",
       "      <td>3.0</td>\n",
       "      <td>3.0</td>\n",
       "      <td>NaN</td>\n",
       "      <td>NaN</td>\n",
       "      <td>1.0</td>\n",
       "      <td>NaN</td>\n",
       "      <td>1</td>\n",
       "      <td>No</td>\n",
       "      <td>1</td>\n",
       "    </tr>\n",
       "    <tr>\n",
       "      <th>1</th>\n",
       "      <td>Hungpin Hsieh</td>\n",
       "      <td>Taiwan</td>\n",
       "      <td>26th August 2019</td>\n",
       "      <td>\"asked them to cancel my ticket\"</td>\n",
       "      <td>✅ Trip Verified |  I purchased a ticket for Du...</td>\n",
       "      <td>Trip Verified</td>\n",
       "      <td>NaN</td>\n",
       "      <td>Solo Leisure</td>\n",
       "      <td>Economy Class</td>\n",
       "      <td>Dublin to Mauritius via London</td>\n",
       "      <td>February 2019</td>\n",
       "      <td>NaN</td>\n",
       "      <td>NaN</td>\n",
       "      <td>NaN</td>\n",
       "      <td>NaN</td>\n",
       "      <td>NaN</td>\n",
       "      <td>NaN</td>\n",
       "      <td>1</td>\n",
       "      <td>No</td>\n",
       "      <td>1</td>\n",
       "    </tr>\n",
       "    <tr>\n",
       "      <th>2</th>\n",
       "      <td>Shixin Chu</td>\n",
       "      <td>China</td>\n",
       "      <td>25th August 2019</td>\n",
       "      <td>\"Overall, the journey was great\"</td>\n",
       "      <td>✅ Trip Verified |  London to Shanghai. The Con...</td>\n",
       "      <td>Trip Verified</td>\n",
       "      <td>Boeing 777-200</td>\n",
       "      <td>Family Leisure</td>\n",
       "      <td>First Class</td>\n",
       "      <td>London to Shanghai</td>\n",
       "      <td>August 2019</td>\n",
       "      <td>5.0</td>\n",
       "      <td>5.0</td>\n",
       "      <td>4.0</td>\n",
       "      <td>3.0</td>\n",
       "      <td>5.0</td>\n",
       "      <td>3.0</td>\n",
       "      <td>5</td>\n",
       "      <td>Yes</td>\n",
       "      <td>9</td>\n",
       "    </tr>\n",
       "    <tr>\n",
       "      <th>3</th>\n",
       "      <td>M Simpson</td>\n",
       "      <td>United States</td>\n",
       "      <td>24th August 2019</td>\n",
       "      <td>\"you will not be able to get any help\"</td>\n",
       "      <td>Not Verified |  I have often flown British Air...</td>\n",
       "      <td>Not Verified</td>\n",
       "      <td>NaN</td>\n",
       "      <td>Business</td>\n",
       "      <td>Business Class</td>\n",
       "      <td>Chicago to Heathrow via Barcelona</td>\n",
       "      <td>August 2019</td>\n",
       "      <td>3.0</td>\n",
       "      <td>3.0</td>\n",
       "      <td>3.0</td>\n",
       "      <td>4.0</td>\n",
       "      <td>1.0</td>\n",
       "      <td>4.0</td>\n",
       "      <td>3</td>\n",
       "      <td>No</td>\n",
       "      <td>2</td>\n",
       "    </tr>\n",
       "    <tr>\n",
       "      <th>4</th>\n",
       "      <td>Natalie James-Deegan</td>\n",
       "      <td>United Kingdom</td>\n",
       "      <td>24th August 2019</td>\n",
       "      <td>\"They were beyond amazing!\"</td>\n",
       "      <td>Not Verified |  Good morning. I would like to ...</td>\n",
       "      <td>Not Verified</td>\n",
       "      <td>NaN</td>\n",
       "      <td>Family Leisure</td>\n",
       "      <td>Economy Class</td>\n",
       "      <td>New Orleans to London</td>\n",
       "      <td>November 2018</td>\n",
       "      <td>5.0</td>\n",
       "      <td>5.0</td>\n",
       "      <td>5.0</td>\n",
       "      <td>5.0</td>\n",
       "      <td>5.0</td>\n",
       "      <td>5.0</td>\n",
       "      <td>5</td>\n",
       "      <td>Yes</td>\n",
       "      <td>10</td>\n",
       "    </tr>\n",
       "  </tbody>\n",
       "</table>\n",
       "</div>"
      ],
      "text/plain": [
       "         Passenger_Name     Nationality     date_of_review  \\\n",
       "0           N Trabolini  United Kingdom   28th August 2019   \n",
       "1         Hungpin Hsieh          Taiwan   26th August 2019   \n",
       "2            Shixin Chu           China   25th August 2019   \n",
       "3             M Simpson   United States   24th August 2019   \n",
       "4  Natalie James-Deegan  United Kingdom   24th August 2019   \n",
       "\n",
       "                                    Title  \\\n",
       "0          \"feel worthless as a customer\"   \n",
       "1        \"asked them to cancel my ticket\"   \n",
       "2        \"Overall, the journey was great\"   \n",
       "3  \"you will not be able to get any help\"   \n",
       "4             \"They were beyond amazing!\"   \n",
       "\n",
       "                                              Review   Verification  \\\n",
       "0  ✅ Trip Verified |  I was supposed to fly from ...  Trip Verified   \n",
       "1  ✅ Trip Verified |  I purchased a ticket for Du...  Trip Verified   \n",
       "2  ✅ Trip Verified |  London to Shanghai. The Con...  Trip Verified   \n",
       "3  Not Verified |  I have often flown British Air...   Not Verified   \n",
       "4  Not Verified |  Good morning. I would like to ...   Not Verified   \n",
       "\n",
       "         Aircraft Type Of Traveller       Seat Type  \\\n",
       "0             NaN          Business  Business Class   \n",
       "1             NaN      Solo Leisure   Economy Class   \n",
       "2  Boeing 777-200    Family Leisure     First Class   \n",
       "3             NaN          Business  Business Class   \n",
       "4             NaN    Family Leisure   Economy Class   \n",
       "\n",
       "                               Route     Date Flown  Seat Comfort  \\\n",
       "0           London City to Amsterdam      July 2019           3.0   \n",
       "1     Dublin to Mauritius via London  February 2019           NaN   \n",
       "2                 London to Shanghai    August 2019           5.0   \n",
       "3  Chicago to Heathrow via Barcelona    August 2019           3.0   \n",
       "4              New Orleans to London  November 2018           5.0   \n",
       "\n",
       "   Cabin Staff Service  Food & Beverages  Inflight Entertainment  \\\n",
       "0                  3.0               NaN                     NaN   \n",
       "1                  NaN               NaN                     NaN   \n",
       "2                  5.0               4.0                     3.0   \n",
       "3                  3.0               3.0                     4.0   \n",
       "4                  5.0               5.0                     5.0   \n",
       "\n",
       "   Ground Service  Wifi & Connectivity  Value For Money Recommended  \\\n",
       "0             1.0                  NaN                1          No   \n",
       "1             NaN                  NaN                1          No   \n",
       "2             5.0                  3.0                5         Yes   \n",
       "3             1.0                  4.0                3          No   \n",
       "4             5.0                  5.0                5         Yes   \n",
       "\n",
       "  OverAll_Rating  \n",
       "0              1  \n",
       "1              1  \n",
       "2              9  \n",
       "3              2  \n",
       "4             10  "
      ]
     },
     "execution_count": 27,
     "metadata": {},
     "output_type": "execute_result"
    }
   ],
   "source": [
    "df=pd.DataFrame(dic)\n",
    "df.head()"
   ]
  },
  {
   "cell_type": "code",
   "execution_count": 28,
   "id": "70b136a3-1778-48ae-b02b-f164051431b5",
   "metadata": {},
   "outputs": [],
   "source": [
    "df[\"Review\"]=df[\"Review\"].str.split('|').str[1]"
   ]
  },
  {
   "cell_type": "code",
   "execution_count": 29,
   "id": "0517df23-edea-4f69-980d-ae85de7d7037",
   "metadata": {},
   "outputs": [],
   "source": [
    "df[\"Title\"]=df[\"Title\"].str.split('\"').str[1]"
   ]
  },
  {
   "cell_type": "code",
   "execution_count": 30,
   "id": "65acb16f-d6bd-43d4-bb79-801c11d9e2f7",
   "metadata": {},
   "outputs": [
    {
     "data": {
      "text/html": [
       "<div>\n",
       "<style scoped>\n",
       "    .dataframe tbody tr th:only-of-type {\n",
       "        vertical-align: middle;\n",
       "    }\n",
       "\n",
       "    .dataframe tbody tr th {\n",
       "        vertical-align: top;\n",
       "    }\n",
       "\n",
       "    .dataframe thead th {\n",
       "        text-align: right;\n",
       "    }\n",
       "</style>\n",
       "<table border=\"1\" class=\"dataframe\">\n",
       "  <thead>\n",
       "    <tr style=\"text-align: right;\">\n",
       "      <th></th>\n",
       "      <th>Passenger_Name</th>\n",
       "      <th>Nationality</th>\n",
       "      <th>date_of_review</th>\n",
       "      <th>Title</th>\n",
       "      <th>Review</th>\n",
       "      <th>Verification</th>\n",
       "      <th>Aircraft</th>\n",
       "      <th>Type Of Traveller</th>\n",
       "      <th>Seat Type</th>\n",
       "      <th>Route</th>\n",
       "      <th>Date Flown</th>\n",
       "      <th>Seat Comfort</th>\n",
       "      <th>Cabin Staff Service</th>\n",
       "      <th>Food &amp; Beverages</th>\n",
       "      <th>Inflight Entertainment</th>\n",
       "      <th>Ground Service</th>\n",
       "      <th>Wifi &amp; Connectivity</th>\n",
       "      <th>Value For Money</th>\n",
       "      <th>Recommended</th>\n",
       "      <th>OverAll_Rating</th>\n",
       "    </tr>\n",
       "  </thead>\n",
       "  <tbody>\n",
       "    <tr>\n",
       "      <th>0</th>\n",
       "      <td>N Trabolini</td>\n",
       "      <td>United Kingdom</td>\n",
       "      <td>28th August 2019</td>\n",
       "      <td>feel worthless as a customer</td>\n",
       "      <td>I was supposed to fly from London City to Am...</td>\n",
       "      <td>Trip Verified</td>\n",
       "      <td>NaN</td>\n",
       "      <td>Business</td>\n",
       "      <td>Business Class</td>\n",
       "      <td>London City to Amsterdam</td>\n",
       "      <td>July 2019</td>\n",
       "      <td>3.0</td>\n",
       "      <td>3.0</td>\n",
       "      <td>NaN</td>\n",
       "      <td>NaN</td>\n",
       "      <td>1.0</td>\n",
       "      <td>NaN</td>\n",
       "      <td>1</td>\n",
       "      <td>No</td>\n",
       "      <td>1</td>\n",
       "    </tr>\n",
       "    <tr>\n",
       "      <th>1</th>\n",
       "      <td>Hungpin Hsieh</td>\n",
       "      <td>Taiwan</td>\n",
       "      <td>26th August 2019</td>\n",
       "      <td>asked them to cancel my ticket</td>\n",
       "      <td>I purchased a ticket for Dublin to Mauritius...</td>\n",
       "      <td>Trip Verified</td>\n",
       "      <td>NaN</td>\n",
       "      <td>Solo Leisure</td>\n",
       "      <td>Economy Class</td>\n",
       "      <td>Dublin to Mauritius via London</td>\n",
       "      <td>February 2019</td>\n",
       "      <td>NaN</td>\n",
       "      <td>NaN</td>\n",
       "      <td>NaN</td>\n",
       "      <td>NaN</td>\n",
       "      <td>NaN</td>\n",
       "      <td>NaN</td>\n",
       "      <td>1</td>\n",
       "      <td>No</td>\n",
       "      <td>1</td>\n",
       "    </tr>\n",
       "    <tr>\n",
       "      <th>2</th>\n",
       "      <td>Shixin Chu</td>\n",
       "      <td>China</td>\n",
       "      <td>25th August 2019</td>\n",
       "      <td>Overall, the journey was great</td>\n",
       "      <td>London to Shanghai. The Concorde room in Hea...</td>\n",
       "      <td>Trip Verified</td>\n",
       "      <td>Boeing 777-200</td>\n",
       "      <td>Family Leisure</td>\n",
       "      <td>First Class</td>\n",
       "      <td>London to Shanghai</td>\n",
       "      <td>August 2019</td>\n",
       "      <td>5.0</td>\n",
       "      <td>5.0</td>\n",
       "      <td>4.0</td>\n",
       "      <td>3.0</td>\n",
       "      <td>5.0</td>\n",
       "      <td>3.0</td>\n",
       "      <td>5</td>\n",
       "      <td>Yes</td>\n",
       "      <td>9</td>\n",
       "    </tr>\n",
       "    <tr>\n",
       "      <th>3</th>\n",
       "      <td>M Simpson</td>\n",
       "      <td>United States</td>\n",
       "      <td>24th August 2019</td>\n",
       "      <td>you will not be able to get any help</td>\n",
       "      <td>I have often flown British Airways and have ...</td>\n",
       "      <td>Not Verified</td>\n",
       "      <td>NaN</td>\n",
       "      <td>Business</td>\n",
       "      <td>Business Class</td>\n",
       "      <td>Chicago to Heathrow via Barcelona</td>\n",
       "      <td>August 2019</td>\n",
       "      <td>3.0</td>\n",
       "      <td>3.0</td>\n",
       "      <td>3.0</td>\n",
       "      <td>4.0</td>\n",
       "      <td>1.0</td>\n",
       "      <td>4.0</td>\n",
       "      <td>3</td>\n",
       "      <td>No</td>\n",
       "      <td>2</td>\n",
       "    </tr>\n",
       "    <tr>\n",
       "      <th>4</th>\n",
       "      <td>Natalie James-Deegan</td>\n",
       "      <td>United Kingdom</td>\n",
       "      <td>24th August 2019</td>\n",
       "      <td>They were beyond amazing!</td>\n",
       "      <td>Good morning. I would like to write a review...</td>\n",
       "      <td>Not Verified</td>\n",
       "      <td>NaN</td>\n",
       "      <td>Family Leisure</td>\n",
       "      <td>Economy Class</td>\n",
       "      <td>New Orleans to London</td>\n",
       "      <td>November 2018</td>\n",
       "      <td>5.0</td>\n",
       "      <td>5.0</td>\n",
       "      <td>5.0</td>\n",
       "      <td>5.0</td>\n",
       "      <td>5.0</td>\n",
       "      <td>5.0</td>\n",
       "      <td>5</td>\n",
       "      <td>Yes</td>\n",
       "      <td>10</td>\n",
       "    </tr>\n",
       "  </tbody>\n",
       "</table>\n",
       "</div>"
      ],
      "text/plain": [
       "         Passenger_Name     Nationality     date_of_review  \\\n",
       "0           N Trabolini  United Kingdom   28th August 2019   \n",
       "1         Hungpin Hsieh          Taiwan   26th August 2019   \n",
       "2            Shixin Chu           China   25th August 2019   \n",
       "3             M Simpson   United States   24th August 2019   \n",
       "4  Natalie James-Deegan  United Kingdom   24th August 2019   \n",
       "\n",
       "                                  Title  \\\n",
       "0          feel worthless as a customer   \n",
       "1        asked them to cancel my ticket   \n",
       "2        Overall, the journey was great   \n",
       "3  you will not be able to get any help   \n",
       "4             They were beyond amazing!   \n",
       "\n",
       "                                              Review   Verification  \\\n",
       "0    I was supposed to fly from London City to Am...  Trip Verified   \n",
       "1    I purchased a ticket for Dublin to Mauritius...  Trip Verified   \n",
       "2    London to Shanghai. The Concorde room in Hea...  Trip Verified   \n",
       "3    I have often flown British Airways and have ...   Not Verified   \n",
       "4    Good morning. I would like to write a review...   Not Verified   \n",
       "\n",
       "         Aircraft Type Of Traveller       Seat Type  \\\n",
       "0             NaN          Business  Business Class   \n",
       "1             NaN      Solo Leisure   Economy Class   \n",
       "2  Boeing 777-200    Family Leisure     First Class   \n",
       "3             NaN          Business  Business Class   \n",
       "4             NaN    Family Leisure   Economy Class   \n",
       "\n",
       "                               Route     Date Flown  Seat Comfort  \\\n",
       "0           London City to Amsterdam      July 2019           3.0   \n",
       "1     Dublin to Mauritius via London  February 2019           NaN   \n",
       "2                 London to Shanghai    August 2019           5.0   \n",
       "3  Chicago to Heathrow via Barcelona    August 2019           3.0   \n",
       "4              New Orleans to London  November 2018           5.0   \n",
       "\n",
       "   Cabin Staff Service  Food & Beverages  Inflight Entertainment  \\\n",
       "0                  3.0               NaN                     NaN   \n",
       "1                  NaN               NaN                     NaN   \n",
       "2                  5.0               4.0                     3.0   \n",
       "3                  3.0               3.0                     4.0   \n",
       "4                  5.0               5.0                     5.0   \n",
       "\n",
       "   Ground Service  Wifi & Connectivity  Value For Money Recommended  \\\n",
       "0             1.0                  NaN                1          No   \n",
       "1             NaN                  NaN                1          No   \n",
       "2             5.0                  3.0                5         Yes   \n",
       "3             1.0                  4.0                3          No   \n",
       "4             5.0                  5.0                5         Yes   \n",
       "\n",
       "  OverAll_Rating  \n",
       "0              1  \n",
       "1              1  \n",
       "2              9  \n",
       "3              2  \n",
       "4             10  "
      ]
     },
     "execution_count": 30,
     "metadata": {},
     "output_type": "execute_result"
    }
   ],
   "source": [
    "df.head()"
   ]
  },
  {
   "cell_type": "markdown",
   "id": "443b7c74-f8b3-4294-9823-8d4a0af099af",
   "metadata": {},
   "source": [
    "## Step 6: Saving the Data to a CSV File\n",
    "Finally, we save the extracted data in CSV format for future use."
   ]
  },
  {
   "cell_type": "code",
   "execution_count": 31,
   "id": "e5827c78-62b6-4ac9-bd73-33c7c479ad7e",
   "metadata": {},
   "outputs": [],
   "source": [
    "df.to_csv(\"british_airways_reviews.csv\",index=False)"
   ]
  }
 ],
 "metadata": {
  "kernelspec": {
   "display_name": "Python 3 (ipykernel)",
   "language": "python",
   "name": "python3"
  },
  "language_info": {
   "codemirror_mode": {
    "name": "ipython",
    "version": 3
   },
   "file_extension": ".py",
   "mimetype": "text/x-python",
   "name": "python",
   "nbconvert_exporter": "python",
   "pygments_lexer": "ipython3",
   "version": "3.12.3"
  }
 },
 "nbformat": 4,
 "nbformat_minor": 5
}
